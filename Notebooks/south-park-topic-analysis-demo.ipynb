{
 "cells": [
  {
   "cell_type": "markdown",
   "metadata": {},
   "source": [
    "# Topic Analysis Using LDA (Combination of Gensim and Sklearn)"
   ]
  },
  {
   "cell_type": "markdown",
   "metadata": {},
   "source": [
    "## Add module to system path"
   ]
  },
  {
   "cell_type": "code",
   "execution_count": 1,
   "metadata": {},
   "outputs": [],
   "source": [
    "import sys\n",
    "sys.path.append(\"../Modules/\")"
   ]
  },
  {
   "cell_type": "markdown",
   "metadata": {},
   "source": [
    "## Import libraries"
   ]
  },
  {
   "cell_type": "code",
   "execution_count": 2,
   "metadata": {},
   "outputs": [
    {
     "name": "stderr",
     "output_type": "stream",
     "text": [
      "C:\\Users\\User\\Anaconda3\\lib\\site-packages\\thinc\\neural\\train.py:7: DeprecationWarning: Using or importing the ABCs from 'collections' instead of from 'collections.abc' is deprecated, and in 3.8 it will stop working\n",
      "  from .optimizers import Adam, linear_decay\n",
      "C:\\Users\\User\\Anaconda3\\lib\\site-packages\\thinc\\check.py:4: DeprecationWarning: Using or importing the ABCs from 'collections' instead of from 'collections.abc' is deprecated, and in 3.8 it will stop working\n",
      "  from collections import Sequence, Sized, Iterable, Callable\n",
      "[nltk_data] Downloading package wordnet to\n",
      "[nltk_data]     C:\\Users\\User\\AppData\\Roaming\\nltk_data...\n",
      "[nltk_data]   Package wordnet is already up-to-date!\n",
      "[nltk_data] Downloading package stopwords to\n",
      "[nltk_data]     C:\\Users\\User\\AppData\\Roaming\\nltk_data...\n",
      "[nltk_data]   Package stopwords is already up-to-date!\n",
      "[nltk_data] Downloading package averaged_perceptron_tagger to\n",
      "[nltk_data]     C:\\Users\\User\\AppData\\Roaming\\nltk_data...\n",
      "[nltk_data]   Package averaged_perceptron_tagger is already up-to-\n",
      "[nltk_data]       date!\n"
     ]
    }
   ],
   "source": [
    "import pandas as pd\n",
    "import LDAGensimTopicAnlalysis as lda\n",
    "import warnings\n",
    "import time\n",
    "import pickle\n",
    "import gensim\n",
    "import pyLDAvis.gensim"
   ]
  },
  {
   "cell_type": "markdown",
   "metadata": {},
   "source": [
    "## Import data"
   ]
  },
  {
   "cell_type": "code",
   "execution_count": 3,
   "metadata": {},
   "outputs": [
    {
     "data": {
      "text/html": [
       "<div>\n",
       "<style scoped>\n",
       "    .dataframe tbody tr th:only-of-type {\n",
       "        vertical-align: middle;\n",
       "    }\n",
       "\n",
       "    .dataframe tbody tr th {\n",
       "        vertical-align: top;\n",
       "    }\n",
       "\n",
       "    .dataframe thead th {\n",
       "        text-align: right;\n",
       "    }\n",
       "</style>\n",
       "<table border=\"1\" class=\"dataframe\">\n",
       "  <thead>\n",
       "    <tr style=\"text-align: right;\">\n",
       "      <th></th>\n",
       "      <th>Season</th>\n",
       "      <th>Episode</th>\n",
       "      <th>Character</th>\n",
       "      <th>Line</th>\n",
       "    </tr>\n",
       "  </thead>\n",
       "  <tbody>\n",
       "    <tr>\n",
       "      <th>46818</th>\n",
       "      <td>4</td>\n",
       "      <td>8</td>\n",
       "      <td>Kyle</td>\n",
       "      <td>Yeah, you can have a drink of water. The dispe...</td>\n",
       "    </tr>\n",
       "    <tr>\n",
       "      <th>58093</th>\n",
       "      <td>6</td>\n",
       "      <td>13</td>\n",
       "      <td>Sixth Grader 1</td>\n",
       "      <td>Lord of the Rings? Ha! That movie's gay!\\n</td>\n",
       "    </tr>\n",
       "    <tr>\n",
       "      <th>53863</th>\n",
       "      <td>5</td>\n",
       "      <td>12</td>\n",
       "      <td>Mr. Garrison</td>\n",
       "      <td>That's great! And now we can sell all their ho...</td>\n",
       "    </tr>\n",
       "    <tr>\n",
       "      <th>33765</th>\n",
       "      <td>2</td>\n",
       "      <td>6</td>\n",
       "      <td>Jimbo</td>\n",
       "      <td>Oh. Yeah, we sure were.\\n</td>\n",
       "    </tr>\n",
       "    <tr>\n",
       "      <th>49665</th>\n",
       "      <td>4</td>\n",
       "      <td>17</td>\n",
       "      <td>Kyle</td>\n",
       "      <td>It's only three days until Christmas, you guys...</td>\n",
       "    </tr>\n",
       "    <tr>\n",
       "      <th>25049</th>\n",
       "      <td>17</td>\n",
       "      <td>9</td>\n",
       "      <td>Niles</td>\n",
       "      <td>That's right Tom. Mall officials have said the...</td>\n",
       "    </tr>\n",
       "    <tr>\n",
       "      <th>35824</th>\n",
       "      <td>2</td>\n",
       "      <td>12</td>\n",
       "      <td>Stan</td>\n",
       "      <td>Huh-I dunno.\\n</td>\n",
       "    </tr>\n",
       "    <tr>\n",
       "      <th>22016</th>\n",
       "      <td>16</td>\n",
       "      <td>10</td>\n",
       "      <td>Randy</td>\n",
       "      <td>You said we wouldn't be prepared to get rid of...</td>\n",
       "    </tr>\n",
       "    <tr>\n",
       "      <th>68589</th>\n",
       "      <td>9</td>\n",
       "      <td>5</td>\n",
       "      <td>Umpire</td>\n",
       "      <td>Strike 1!\\n</td>\n",
       "    </tr>\n",
       "    <tr>\n",
       "      <th>14208</th>\n",
       "      <td>14</td>\n",
       "      <td>4</td>\n",
       "      <td>Kyle</td>\n",
       "      <td>What? How the hell do I only have 37 friends?\\n</td>\n",
       "    </tr>\n",
       "  </tbody>\n",
       "</table>\n",
       "</div>"
      ],
      "text/plain": [
       "      Season Episode       Character  \\\n",
       "46818      4       8            Kyle   \n",
       "58093      6      13  Sixth Grader 1   \n",
       "53863      5      12    Mr. Garrison   \n",
       "33765      2       6           Jimbo   \n",
       "49665      4      17            Kyle   \n",
       "25049     17       9           Niles   \n",
       "35824      2      12            Stan   \n",
       "22016     16      10           Randy   \n",
       "68589      9       5          Umpire   \n",
       "14208     14       4            Kyle   \n",
       "\n",
       "                                                    Line  \n",
       "46818  Yeah, you can have a drink of water. The dispe...  \n",
       "58093         Lord of the Rings? Ha! That movie's gay!\\n  \n",
       "53863  That's great! And now we can sell all their ho...  \n",
       "33765                          Oh. Yeah, we sure were.\\n  \n",
       "49665  It's only three days until Christmas, you guys...  \n",
       "25049  That's right Tom. Mall officials have said the...  \n",
       "35824                                     Huh-I dunno.\\n  \n",
       "22016  You said we wouldn't be prepared to get rid of...  \n",
       "68589                                        Strike 1!\\n  \n",
       "14208    What? How the hell do I only have 37 friends?\\n  "
      ]
     },
     "execution_count": 3,
     "metadata": {},
     "output_type": "execute_result"
    }
   ],
   "source": [
    "df_all = pd.read_csv('../Data/All-seasons.csv')\n",
    "df_all.sample(10)"
   ]
  },
  {
   "cell_type": "markdown",
   "metadata": {},
   "source": [
    "---"
   ]
  },
  {
   "cell_type": "markdown",
   "metadata": {},
   "source": [
    "## Cleaning text"
   ]
  },
  {
   "cell_type": "code",
   "execution_count": 4,
   "metadata": {},
   "outputs": [
    {
     "name": "stdout",
     "output_type": "stream",
     "text": [
      "\n",
      "\n",
      "Original: Okay, see, I am the mayor of Smiley Town, and so I will ask the questions around hyah!\n",
      "\n",
      "Cleaned: okay see the mayor smiley town and will ask the question around hyah\n",
      "\n",
      "\n",
      "Original: Moving?\n",
      "\n",
      "Cleaned: move\n",
      "\n",
      "\n",
      "Original: She's a candy cane to wiggle\n",
      "\n",
      "Cleaned: she candy cane wiggle\n",
      "\n",
      "\n",
      "Original: Awesome.\n",
      "\n",
      "Cleaned: awesome\n",
      "\n",
      "\n",
      "Original: Oooh.\n",
      "\n",
      "Cleaned: oooh\n"
     ]
    }
   ],
   "source": [
    "# Test to see how the prepare text function actually transforms the text\n",
    "for text in df_all[df_all['Line'].isnull()==False]['Line'].sample(5):\n",
    "    print('\\n')\n",
    "    print('Original:', text)\n",
    "    print('Cleaned:', lda.prepare_text_for_lda(text))"
   ]
  },
  {
   "cell_type": "code",
   "execution_count": 12,
   "metadata": {},
   "outputs": [
    {
     "data": {
      "text/html": [
       "<div>\n",
       "<style scoped>\n",
       "    .dataframe tbody tr th:only-of-type {\n",
       "        vertical-align: middle;\n",
       "    }\n",
       "\n",
       "    .dataframe tbody tr th {\n",
       "        vertical-align: top;\n",
       "    }\n",
       "\n",
       "    .dataframe thead th {\n",
       "        text-align: right;\n",
       "    }\n",
       "</style>\n",
       "<table border=\"1\" class=\"dataframe\">\n",
       "  <thead>\n",
       "    <tr style=\"text-align: right;\">\n",
       "      <th></th>\n",
       "      <th>Line</th>\n",
       "    </tr>\n",
       "  </thead>\n",
       "  <tbody>\n",
       "    <tr>\n",
       "      <th>20051</th>\n",
       "      <td>Aw, he's dead?\\n</td>\n",
       "    </tr>\n",
       "    <tr>\n",
       "      <th>19984</th>\n",
       "      <td>Why?\\n</td>\n",
       "    </tr>\n",
       "    <tr>\n",
       "      <th>20045</th>\n",
       "      <td>Uh-uh, go on.\\n</td>\n",
       "    </tr>\n",
       "    <tr>\n",
       "      <th>20012</th>\n",
       "      <td>Clyde! Clyde!  Clyde, I want you to know I don...</td>\n",
       "    </tr>\n",
       "    <tr>\n",
       "      <th>20033</th>\n",
       "      <td>It's the Toilet Safety Administration, hun. Th...</td>\n",
       "    </tr>\n",
       "  </tbody>\n",
       "</table>\n",
       "</div>"
      ],
      "text/plain": [
       "                                                    Line\n",
       "20051                                   Aw, he's dead?\\n\n",
       "19984                                             Why?\\n\n",
       "20045                                    Uh-uh, go on.\\n\n",
       "20012  Clyde! Clyde!  Clyde, I want you to know I don...\n",
       "20033  It's the Toilet Safety Administration, hun. Th..."
      ]
     },
     "execution_count": 12,
     "metadata": {},
     "output_type": "execute_result"
    }
   ],
   "source": [
    "df_text = pd.DataFrame(df_all[(df_all['Season']=='16') & (df_all['Episode']=='1')]['Line']).dropna()\n",
    "df_text.drop_duplicates(inplace=True)\n",
    "df_text.sample(5)"
   ]
  },
  {
   "cell_type": "code",
   "execution_count": 13,
   "metadata": {},
   "outputs": [
    {
     "name": "stdout",
     "output_type": "stream",
     "text": [
      "Time to clean text: 1.782490646839142\n"
     ]
    },
    {
     "data": {
      "text/html": [
       "<div>\n",
       "<style scoped>\n",
       "    .dataframe tbody tr th:only-of-type {\n",
       "        vertical-align: middle;\n",
       "    }\n",
       "\n",
       "    .dataframe tbody tr th {\n",
       "        vertical-align: top;\n",
       "    }\n",
       "\n",
       "    .dataframe thead th {\n",
       "        text-align: right;\n",
       "    }\n",
       "</style>\n",
       "<table border=\"1\" class=\"dataframe\">\n",
       "  <thead>\n",
       "    <tr style=\"text-align: right;\">\n",
       "      <th></th>\n",
       "      <th>Line</th>\n",
       "      <th>clean_text</th>\n",
       "    </tr>\n",
       "  </thead>\n",
       "  <tbody>\n",
       "    <tr>\n",
       "      <th>19998</th>\n",
       "      <td>Nuh-uh.\\n</td>\n",
       "      <td>nuhuh</td>\n",
       "    </tr>\n",
       "    <tr>\n",
       "      <th>20077</th>\n",
       "      <td>This is inhumane.\\n</td>\n",
       "      <td>this inhumane</td>\n",
       "    </tr>\n",
       "    <tr>\n",
       "      <th>20122</th>\n",
       "      <td>Anyways, he says I'm getting nothing anyway, s...</td>\n",
       "      <td>anyways say get nothing anyway then you can</td>\n",
       "    </tr>\n",
       "    <tr>\n",
       "      <th>20018</th>\n",
       "      <td>Yeah, yes. That's right.\\n</td>\n",
       "      <td>yeah yes that right</td>\n",
       "    </tr>\n",
       "    <tr>\n",
       "      <th>20067</th>\n",
       "      <td>The address here is 260 Avenue de los Mexicano...</td>\n",
       "      <td>the address here 260 avenue los mexicano</td>\n",
       "    </tr>\n",
       "  </tbody>\n",
       "</table>\n",
       "</div>"
      ],
      "text/plain": [
       "                                                    Line  \\\n",
       "19998                                          Nuh-uh.\\n   \n",
       "20077                                This is inhumane.\\n   \n",
       "20122  Anyways, he says I'm getting nothing anyway, s...   \n",
       "20018                         Yeah, yes. That's right.\\n   \n",
       "20067  The address here is 260 Avenue de los Mexicano...   \n",
       "\n",
       "                                        clean_text  \n",
       "19998                                        nuhuh  \n",
       "20077                                this inhumane  \n",
       "20122  anyways say get nothing anyway then you can  \n",
       "20018                          yeah yes that right  \n",
       "20067     the address here 260 avenue los mexicano  "
      ]
     },
     "execution_count": 13,
     "metadata": {},
     "output_type": "execute_result"
    }
   ],
   "source": [
    "start_time = time.time()\n",
    "df_text['clean_text'] = df_text['Line'].apply(lambda x: lda.prepare_text_for_lda(x))\n",
    "end_time = time.time()\n",
    "print('Time to clean text:', (end_time - start_time)/60)\n",
    "\n",
    "df_text.sample(5)"
   ]
  },
  {
   "cell_type": "markdown",
   "metadata": {},
   "source": [
    "---"
   ]
  },
  {
   "cell_type": "markdown",
   "metadata": {},
   "source": [
    "## Vectorize text"
   ]
  },
  {
   "cell_type": "code",
   "execution_count": 14,
   "metadata": {},
   "outputs": [
    {
     "name": "stderr",
     "output_type": "stream",
     "text": [
      "C:\\Users\\User\\Anaconda3\\lib\\site-packages\\smart_open\\smart_open_lib.py:398: UserWarning: This function is deprecated, use smart_open.open instead. See the migration notes for details: https://github.com/RaRe-Technologies/smart_open/blob/master/README.rst#migrating-to-the-new-open-function\n",
      "  'See the migration notes for details: %s' % _MIGRATION_NOTES_URL\n"
     ]
    }
   ],
   "source": [
    "lda.vect_train_text(df_text, 'clean_text', ngram_range=(3,3), save_path='../Resources/lda')"
   ]
  },
  {
   "cell_type": "markdown",
   "metadata": {},
   "source": [
    "---"
   ]
  },
  {
   "cell_type": "markdown",
   "metadata": {},
   "source": [
    "## Train LDA Model"
   ]
  },
  {
   "cell_type": "code",
   "execution_count": 15,
   "metadata": {},
   "outputs": [],
   "source": [
    "corpus = pickle.load(open('../Resources/lda_corpus.pkl', 'rb'))\n",
    "dictionary = gensim.corpora.Dictionary.load('../Resources/lda_dictionary.gensim')\n",
    "vect = pickle.load(open('../Resources/lda_vect.pkl', 'rb'))"
   ]
  },
  {
   "cell_type": "code",
   "execution_count": 16,
   "metadata": {},
   "outputs": [
    {
     "name": "stderr",
     "output_type": "stream",
     "text": [
      "C:\\Users\\User\\Anaconda3\\lib\\site-packages\\smart_open\\smart_open_lib.py:398: UserWarning: This function is deprecated, use smart_open.open instead. See the migration notes for details: https://github.com/RaRe-Technologies/smart_open/blob/master/README.rst#migrating-to-the-new-open-function\n",
      "  'See the migration notes for details: %s' % _MIGRATION_NOTES_URL\n",
      "C:\\Users\\User\\Anaconda3\\lib\\site-packages\\smart_open\\smart_open_lib.py:398: UserWarning: This function is deprecated, use smart_open.open instead. See the migration notes for details: https://github.com/RaRe-Technologies/smart_open/blob/master/README.rst#migrating-to-the-new-open-function\n",
      "  'See the migration notes for details: %s' % _MIGRATION_NOTES_URL\n"
     ]
    },
    {
     "name": "stdout",
     "output_type": "stream",
     "text": [
      "Done fitting LDA with 5 topics... Time elapsed 0.03150457143783569\n"
     ]
    }
   ],
   "source": [
    "lda.train_lda_model(n_topics=5, corpus=corpus, dictionary=dictionary, save_path='../Resources/lda5')"
   ]
  },
  {
   "cell_type": "markdown",
   "metadata": {},
   "source": [
    "---"
   ]
  },
  {
   "cell_type": "markdown",
   "metadata": {},
   "source": [
    "## Prepare model data for visualisation"
   ]
  },
  {
   "cell_type": "code",
   "execution_count": 17,
   "metadata": {},
   "outputs": [
    {
     "name": "stderr",
     "output_type": "stream",
     "text": [
      "C:\\Users\\User\\Anaconda3\\lib\\site-packages\\smart_open\\smart_open_lib.py:398: UserWarning: This function is deprecated, use smart_open.open instead. See the migration notes for details: https://github.com/RaRe-Technologies/smart_open/blob/master/README.rst#migrating-to-the-new-open-function\n",
      "  'See the migration notes for details: %s' % _MIGRATION_NOTES_URL\n",
      "C:\\Users\\User\\Anaconda3\\lib\\site-packages\\smart_open\\smart_open_lib.py:398: UserWarning: This function is deprecated, use smart_open.open instead. See the migration notes for details: https://github.com/RaRe-Technologies/smart_open/blob/master/README.rst#migrating-to-the-new-open-function\n",
      "  'See the migration notes for details: %s' % _MIGRATION_NOTES_URL\n",
      "C:\\Users\\User\\Anaconda3\\lib\\site-packages\\pyLDAvis\\_prepare.py:257: FutureWarning: Sorting because non-concatenation axis is not aligned. A future version\n",
      "of pandas will change to not sort by default.\n",
      "\n",
      "To accept the future behavior, pass 'sort=False'.\n",
      "\n",
      "To retain the current behavior and silence the warning, pass 'sort=True'.\n",
      "\n",
      "  return pd.concat([default_term_info] + list(topic_dfs))\n"
     ]
    },
    {
     "name": "stdout",
     "output_type": "stream",
     "text": [
      "Time to prepare model data: 0.5829641977945964\n"
     ]
    }
   ],
   "source": [
    "start_time = time.time()\n",
    "lda5_model = gensim.models.ldamodel.LdaModel.load('../Resources/lda5.gensim')\n",
    "lda5_display = pyLDAvis.gensim.prepare(lda5_model, corpus, dictionary, sort_topics=False)\n",
    "end_time = time.time()\n",
    "print('Time to prepare model data:', (end_time-start_time)/60)"
   ]
  },
  {
   "cell_type": "markdown",
   "metadata": {},
   "source": [
    "## Display results"
   ]
  },
  {
   "cell_type": "code",
   "execution_count": 18,
   "metadata": {},
   "outputs": [
    {
     "data": {
      "text/html": [
       "\n",
       "<link rel=\"stylesheet\" type=\"text/css\" href=\"https://cdn.rawgit.com/bmabey/pyLDAvis/files/ldavis.v1.0.0.css\">\n",
       "\n",
       "\n",
       "<div id=\"ldavis_el856823117305203769051765234\"></div>\n",
       "<script type=\"text/javascript\">\n",
       "\n",
       "var ldavis_el856823117305203769051765234_data = {\"mdsDat\": {\"x\": [0.12459079641494504, -0.07420733954194414, -0.00018399232923859253, -0.00225806236006276, -0.04794140218369963], \"y\": [-0.02169389581478566, -0.10459014675624347, 0.015983982986927048, 0.005086836303771479, 0.10521322328033066], \"topics\": [1, 2, 3, 4, 5], \"cluster\": [1, 1, 1, 1, 1], \"Freq\": [24.181201934814453, 22.659692764282227, 14.419346809387207, 16.6444034576416, 22.09535789489746]}, \"tinfo\": {\"Category\": [\"Default\", \"Default\", \"Default\", \"Default\", \"Default\", \"Default\", \"Default\", \"Default\", \"Default\", \"Default\", \"Default\", \"Default\", \"Default\", \"Default\", \"Default\", \"Default\", \"Default\", \"Default\", \"Default\", \"Default\", \"Default\", \"Default\", \"Default\", \"Default\", \"Default\", \"Default\", \"Default\", \"Default\", \"Default\", \"Default\", \"Topic1\", \"Topic1\", \"Topic1\", \"Topic1\", \"Topic1\", \"Topic1\", \"Topic1\", \"Topic1\", \"Topic1\", \"Topic1\", \"Topic1\", \"Topic1\", \"Topic1\", \"Topic1\", \"Topic1\", \"Topic1\", \"Topic1\", \"Topic1\", \"Topic1\", \"Topic1\", \"Topic1\", \"Topic1\", \"Topic1\", \"Topic1\", \"Topic1\", \"Topic1\", \"Topic1\", \"Topic1\", \"Topic1\", \"Topic1\", \"Topic1\", \"Topic1\", \"Topic1\", \"Topic1\", \"Topic1\", \"Topic1\", \"Topic1\", \"Topic1\", \"Topic1\", \"Topic1\", \"Topic1\", \"Topic1\", \"Topic2\", \"Topic2\", \"Topic2\", \"Topic2\", \"Topic2\", \"Topic2\", \"Topic2\", \"Topic2\", \"Topic2\", \"Topic2\", \"Topic2\", \"Topic2\", \"Topic2\", \"Topic2\", \"Topic2\", \"Topic2\", \"Topic2\", \"Topic2\", \"Topic2\", \"Topic2\", \"Topic2\", \"Topic2\", \"Topic2\", \"Topic2\", \"Topic2\", \"Topic2\", \"Topic2\", \"Topic2\", \"Topic2\", \"Topic2\", \"Topic2\", \"Topic2\", \"Topic2\", \"Topic2\", \"Topic2\", \"Topic2\", \"Topic2\", \"Topic2\", \"Topic2\", \"Topic2\", \"Topic2\", \"Topic2\", \"Topic2\", \"Topic2\", \"Topic2\", \"Topic2\", \"Topic2\", \"Topic2\", \"Topic2\", \"Topic2\", \"Topic3\", \"Topic3\", \"Topic3\", \"Topic3\", \"Topic3\", \"Topic3\", \"Topic3\", \"Topic3\", \"Topic3\", \"Topic3\", \"Topic3\", \"Topic3\", \"Topic3\", \"Topic3\", \"Topic3\", \"Topic3\", \"Topic3\", \"Topic3\", \"Topic3\", \"Topic3\", \"Topic3\", \"Topic3\", \"Topic3\", \"Topic3\", \"Topic3\", \"Topic3\", \"Topic3\", \"Topic3\", \"Topic3\", \"Topic3\", \"Topic3\", \"Topic3\", \"Topic3\", \"Topic3\", \"Topic3\", \"Topic3\", \"Topic3\", \"Topic3\", \"Topic3\", \"Topic3\", \"Topic3\", \"Topic3\", \"Topic4\", \"Topic4\", \"Topic4\", \"Topic4\", \"Topic4\", \"Topic4\", \"Topic4\", \"Topic4\", \"Topic4\", \"Topic4\", \"Topic4\", \"Topic4\", \"Topic4\", \"Topic4\", \"Topic4\", \"Topic4\", \"Topic4\", \"Topic4\", \"Topic4\", \"Topic4\", \"Topic4\", \"Topic4\", \"Topic4\", \"Topic4\", \"Topic4\", \"Topic4\", \"Topic4\", \"Topic4\", \"Topic4\", \"Topic4\", \"Topic4\", \"Topic4\", \"Topic4\", \"Topic4\", \"Topic4\", \"Topic4\", \"Topic4\", \"Topic4\", \"Topic4\", \"Topic4\", \"Topic4\", \"Topic4\", \"Topic5\", \"Topic5\", \"Topic5\", \"Topic5\", \"Topic5\", \"Topic5\", \"Topic5\", \"Topic5\", \"Topic5\", \"Topic5\", \"Topic5\", \"Topic5\", \"Topic5\", \"Topic5\", \"Topic5\", \"Topic5\", \"Topic5\", \"Topic5\", \"Topic5\", \"Topic5\", \"Topic5\", \"Topic5\", \"Topic5\", \"Topic5\", \"Topic5\", \"Topic5\", \"Topic5\", \"Topic5\", \"Topic5\", \"Topic5\", \"Topic5\", \"Topic5\", \"Topic5\", \"Topic5\", \"Topic5\", \"Topic5\", \"Topic5\", \"Topic5\", \"Topic5\", \"Topic5\", \"Topic5\", \"Topic5\", \"Topic5\", \"Topic5\", \"Topic5\", \"Topic5\", \"Topic5\", \"Topic5\", \"Topic5\", \"Topic5\", \"Topic5\"], \"Freq\": [3.0, 2.0, 2.0, 1.0, 1.0, 1.0, 1.0, 6.0, 1.0, 1.0, 1.0, 1.0, 1.0, 1.0, 1.0, 1.0, 1.0, 2.0, 1.0, 1.0, 1.0, 1.0, 1.0, 1.0, 1.0, 1.0, 1.0, 1.0, 1.0, 1.0, 1.229777455329895, 1.229777455329895, 1.2297754287719727, 1.2297183275222778, 1.2295974493026733, 0.6707584261894226, 0.6707583665847778, 0.6707581877708435, 0.6707583665847778, 0.6707582473754883, 0.6707581877708435, 0.6707582473754883, 0.6707582473754883, 0.6707582473754883, 0.6707581877708435, 0.6707581877708435, 0.6707581877708435, 0.6707581877708435, 0.6707581877708435, 0.6707581877708435, 0.6707581877708435, 0.6707581877708435, 0.6707581877708435, 0.6707581877708435, 0.6707581877708435, 0.6707580089569092, 0.6707581877708435, 0.6707581877708435, 0.6707580089569092, 0.6707580089569092, 0.6707579493522644, 0.6707579493522644, 0.6707578897476196, 0.6707579493522644, 0.6707579493522644, 1.2301831245422363, 0.6707579493522644, 0.6707578301429749, 1.2298415899276733, 0.6707577705383301, 0.6725024580955505, 0.6708869934082031, 1.727486491203308, 1.726669192314148, 1.191293478012085, 1.191282868385315, 1.1912603378295898, 1.1738263368606567, 2.2725727558135986, 1.7293603420257568, 0.6500755548477173, 0.650075376033783, 0.6500753164291382, 0.6500753164291382, 0.6500753164291382, 0.6500753164291382, 0.6500751972198486, 0.6500751376152039, 0.6500750780105591, 0.6500751376152039, 0.6500751972198486, 0.6500750780105591, 0.6500751376152039, 0.6500751972198486, 0.6500750780105591, 0.6500751972198486, 0.6500750780105591, 0.6500750184059143, 0.6500750184059143, 0.6500750184059143, 0.6500749588012695, 0.6500749588012695, 0.6500750184059143, 0.6500748991966248, 0.6500750184059143, 3.1961050033569336, 1.1916890144348145, 1.1915923357009888, 0.6500747799873352, 0.6500746607780457, 0.6500747799873352, 0.6500748991966248, 0.6500749588012695, 0.6500750184059143, 0.6500748991966248, 0.6500746607780457, 0.6500747799873352, 0.6505320072174072, 0.6503518223762512, 0.6500930786132812, 0.6500915884971619, 0.6500753164291382, 0.9574328660964966, 0.957426130771637, 0.957426130771637, 0.9574251770973206, 0.522216796875, 0.522216796875, 0.522216796875, 0.5222166776657104, 0.5222166776657104, 0.5222167372703552, 0.5222166180610657, 0.5222165584564209, 0.5222164988517761, 0.5222164988517761, 0.5222164988517761, 0.5222164988517761, 0.5222164988517761, 0.5222164392471313, 0.5222164392471313, 0.5222164392471313, 0.5222163796424866, 0.5222163796424866, 0.5222163796424866, 0.5222163200378418, 0.5222162008285522, 0.5222160220146179, 0.5222160220146179, 0.5222160220146179, 0.5222160220146179, 0.5222160220146179, 0.9576499462127686, 0.9574138522148132, 0.9574132561683655, 0.9574123024940491, 0.5234032869338989, 0.5225581526756287, 0.5225576162338257, 0.5225568413734436, 0.5224899649620056, 0.5224897265434265, 0.5222475528717041, 0.5222373604774475, 1.0360089540481567, 1.0359938144683838, 1.0359866619110107, 1.0351883172988892, 1.0351876020431519, 0.5651155710220337, 0.5651156306266785, 0.5651156306266785, 0.5651155710220337, 0.5651156306266785, 0.5651154518127441, 0.5651154518127441, 0.5651154518127441, 0.5651154518127441, 0.5651154518127441, 0.5651153326034546, 0.5651153326034546, 0.5651153326034546, 0.5651153326034546, 0.5651152729988098, 0.5651152729988098, 0.5651152729988098, 0.5651152729988098, 0.565115213394165, 0.5651150941848755, 0.5651150345802307, 0.5651141405105591, 0.5651140809059143, 0.5651140809059143, 0.5651140809059143, 0.5651140213012695, 0.5651137828826904, 0.5651139616966248, 0.56511390209198, 0.5651137232780457, 0.5651137232780457, 0.5667982697486877, 0.5662801861763, 0.5661895871162415, 0.5661889910697937, 0.565223217010498, 0.5651172995567322, 1.1817106008529663, 1.1817049980163574, 1.1816741228103638, 1.1816155910491943, 1.1810481548309326, 1.1810476779937744, 0.6447336673736572, 0.6447334885597229, 0.6447334885597229, 0.6447333097457886, 0.6447333693504333, 0.6447333693504333, 0.6447334885597229, 0.6447333097457886, 0.6447333097457886, 0.6447333097457886, 0.6447333097457886, 0.6447333097457886, 0.644733190536499, 0.644733190536499, 0.644733190536499, 0.6447330713272095, 0.6447333097457886, 0.6447330713272095, 0.6447330117225647, 0.6447329521179199, 0.6447328329086304, 0.6447328925132751, 0.6447327136993408, 0.6447327136993408, 0.6447327136993408, 0.6447327136993408, 0.6447325944900513, 0.6447325348854065, 0.6447325944900513, 1.3437016010284424, 0.6447325944900513, 0.6447324156761169, 0.6447327136993408, 0.6447325944900513, 0.6447327136993408, 0.6447327136993408, 0.6447327136993408, 0.6447324156761169, 0.6447327136993408, 0.6447325348854065, 0.6451298594474792, 0.6448684930801392, 0.6448472142219543, 0.6448192596435547, 0.6448046565055847], \"Term\": [\"toilet seat down\", \"what have told\", \"have told you\", \"wear your safety\", \"always sue somebody\", \"you can always\", \"can always sue\", \"the toilet seat\", \"your safety belt\", \"the last bastion\", \"bastion american freedom\", \"last bastion american\", \"the government out\", \"its time for\", \"want the government\", \"shoe off belt\", \"off belt off\", \"put the toilet\", \"mom do die\", \"do die for\", \"die for nothing\", \"your mom do\", \"maybe and maybe\", \"well maybe and\", \"clyde what have\", \"and clyde all\", \"clyde all like\", \"told you about\", \"the plastic tray\", \"yeah be gon\", \"christ sue you\", \"the power christ\", \"power christ sue\", \"sir harrington you\", \"take sir harrington\", \"park courthouse where\", \"cross over from\", \"expert have successfully\", \"where expert have\", \"the south park\", \"ghost toilet inventor\", \"john harrington now\", \"tom stand outside\", \"be gon try\", \"successfully summon the\", \"from the dead\", \"lawyer be gon\", \"spirit have cross\", \"the spirit have\", \"that the spirit\", \"now that the\", \"try and sue\", \"courthouse where expert\", \"gon try and\", \"summon the ghost\", \"and sue him\", \"have cross over\", \"over from the\", \"the dead lawyer\", \"the ghost toilet\", \"dead lawyer be\", \"inventor sir john\", \"harrington now that\", \"stand outside the\", \"toilet inventor sir\", \"the seat down\", \"have successfully summon\", \"south park courthouse\", \"the toilet seat\", \"outside the south\", \"sir john harrington\", \"put the seat\", \"what have told\", \"have told you\", \"clyde what have\", \"and clyde all\", \"clyde all like\", \"told you about\", \"toilet seat down\", \"put the toilet\", \"woman just look\", \"plop their butt\", \"hard too much\", \"the toilet bowl\", \"too much ask\", \"ask woman just\", \"and put down\", \"they plop their\", \"have be deny\", \"blindly the toilet\", \"butt blindly the\", \"this specter like\", \"boy this specter\", \"before they plop\", \"down before they\", \"that hard too\", \"avert liability within\", \"much ask woman\", \"put down before\", \"our motion have\", \"down that hard\", \"liability within injunction\", \"encounter manage avert\", \"manage avert liability\", \"the judge concentrate\", \"the toilet seat\", \"the toilet safety\", \"toilet safety administration\", \"against out claim\", \"within injunction against\", \"just look and\", \"specter like none\", \"have ever encounter\", \"none have ever\", \"like none have\", \"injunction against out\", \"ever encounter manage\", \"sue the dead\", \"all right you\", \"sit that way\", \"you asshole and\", \"clyde you asshole\", \"wear your safety\", \"you can always\", \"always sue somebody\", \"can always sue\", \"that toilettime the\", \"toilettime like that\", \"toilettime the last\", \"have perform sueance\", \"not you can\", \"mom should able\", \"take some special\", \"rule toilettime like\", \"like that toilettime\", \"clyde mom should\", \"that suck clyde\", \"dude that suck\", \"why not you\", \"gon take some\", \"its just gon\", \"special protocol would\", \"should able put\", \"put rule toilettime\", \"sue somebody its\", \"protocol would have\", \"just gon take\", \"suck clyde mom\", \"some special protocol\", \"somebody its just\", \"would have perform\", \"able put rule\", \"your safety belt\", \"last bastion american\", \"the last bastion\", \"bastion american freedom\", \"just need check\", \"need check inside\", \"inside your aaasshole\", \"check inside your\", \"mind touch your\", \"you mind touch\", \"toilet safety administration\", \"that big deal\", \"the government out\", \"its time for\", \"want the government\", \"shoe off belt\", \"off belt off\", \"deal with little\", \"government out bathroom\", \"well sorry woman\", \"the rim but\", \"have deal with\", \"than have the\", \"well solution than\", \"rim but its\", \"woman might have\", \"little splash pee\", \"might have deal\", \"out bathroom right\", \"pee the rim\", \"its far well\", \"sorry woman might\", \"far well solution\", \"have the government\", \"splash pee the\", \"solution than have\", \"but its far\", \"with little splash\", \"have tell you\", \"work and the\", \"tell you clyde\", \"you clyde be\", \"be try get\", \"law the law\", \"seat be again\", \"for work and\", \"get ready for\", \"try get ready\", \"sir john harrington\", \"that not what\", \"and the toilet\", \"toilet seat be\", \"yeah be gon\", \"the plastic tray\", \"mom do die\", \"do die for\", \"die for nothing\", \"your mom do\", \"maybe and maybe\", \"well maybe and\", \"and now have\", \"how about agree\", \"will always sit\", \"you put the\", \"cause they have\", \"now have toilet\", \"they will always\", \"jealous cause they\", \"have sit outwards\", \"pee and crap\", \"home right now\", \"agree that men\", \"they have sit\", \"outwards pee and\", \"right now and\", \"now and you\", \"his mom go\", \"asshole and now\", \"agree that they\", \"always sit down\", \"men will agree\", \"where belongs let\", \"down where belongs\", \"go clyde you\", \"his mom his\", \"and you put\", \"right woman be\", \"just jealous cause\", \"have toilet water\", \"the toilet seat\", \"be just jealous\", \"woman be just\", \"know right woman\", \"come home right\", \"mom go clyde\", \"about agree that\", \"sit outwards pee\", \"that men will\", \"that they will\", \"sit down urinate\", \"you come home\", \"clyde clyde clyde\", \"just need check\", \"left the toilet\", \"sir thomas harrington\"], \"Total\": [3.0, 2.0, 2.0, 1.0, 1.0, 1.0, 1.0, 6.0, 1.0, 1.0, 1.0, 1.0, 1.0, 1.0, 1.0, 1.0, 1.0, 2.0, 1.0, 1.0, 1.0, 1.0, 1.0, 1.0, 1.0, 1.0, 1.0, 1.0, 1.0, 1.0, 1.6268540620803833, 1.6268540620803833, 1.6268537044525146, 1.6268569231033325, 1.6268515586853027, 1.067825436592102, 1.067825436592102, 1.067825198173523, 1.067825436592102, 1.0678253173828125, 1.067825198173523, 1.0678253173828125, 1.0678253173828125, 1.0678253173828125, 1.067825198173523, 1.067825198173523, 1.0678253173828125, 1.0678253173828125, 1.0678253173828125, 1.0678253173828125, 1.0678253173828125, 1.0678253173828125, 1.0678253173828125, 1.0678253173828125, 1.0678253173828125, 1.067825198173523, 1.067825436592102, 1.067825436592102, 1.067825198173523, 1.0678253173828125, 1.067825198173523, 1.067825198173523, 1.067825198173523, 1.067825198173523, 1.067825198173523, 2.635072708129883, 1.067825198173523, 1.067825198173523, 6.421750068664551, 1.0678250789642334, 2.0802431106567383, 2.0760560035705566, 2.1339402198791504, 2.133955240249634, 1.592273473739624, 1.5922715663909912, 1.5922670364379883, 1.592081069946289, 3.2347941398620605, 2.692988395690918, 1.050591230392456, 1.0505911111831665, 1.0505911111831665, 1.0505911111831665, 1.050591230392456, 1.050591230392456, 1.0505911111831665, 1.0505911111831665, 1.0505911111831665, 1.0505911111831665, 1.0505911111831665, 1.0505911111831665, 1.0505911111831665, 1.0505911111831665, 1.0505911111831665, 1.0505911111831665, 1.0505911111831665, 1.050590991973877, 1.0505911111831665, 1.0505911111831665, 1.0505911111831665, 1.0505911111831665, 1.0505911111831665, 1.050590991973877, 1.0505911111831665, 6.421750068664551, 2.1512832641601562, 2.5864505767822266, 1.050590991973877, 1.0505908727645874, 1.050590991973877, 1.050590991973877, 1.0505911111831665, 1.050591230392456, 1.050590991973877, 1.0505908727645874, 1.050590991973877, 1.587867021560669, 1.6095259189605713, 1.587860107421875, 1.5878429412841797, 1.5878396034240723, 1.379271149635315, 1.3792698383331299, 1.3792699575424194, 1.379270076751709, 0.9440470933914185, 0.9440470933914185, 0.9440471529960632, 0.9440470933914185, 0.9440470933914185, 0.9440471529960632, 0.9440470933914185, 0.9440470337867737, 0.9440470933914185, 0.9440470933914185, 0.9440470933914185, 0.9440470933914185, 0.9440470337867737, 0.9440470933914185, 0.9440470337867737, 0.9440470337867737, 0.9440470337867737, 0.9440470933914185, 0.9440470933914185, 0.9440470337867737, 0.9440470337867737, 0.9440470933914185, 0.9440470933914185, 0.9440471529960632, 0.9440470933914185, 0.9440470933914185, 1.916471242904663, 1.91654372215271, 1.9165453910827637, 1.9165456295013428, 2.039902448654175, 1.4812288284301758, 1.481229305267334, 1.481229305267334, 1.5029124021530151, 1.5029125213623047, 2.5864505767822266, 1.4857594966888428, 1.450785517692566, 1.4507845640182495, 1.450788140296936, 1.4508869647979736, 1.450886845588684, 0.9797940850257874, 0.9797941446304321, 0.9797941446304321, 0.9797941446304321, 0.9797941446304321, 0.9797940850257874, 0.9797940850257874, 0.9797940254211426, 0.9797940850257874, 0.9797940850257874, 0.9797940850257874, 0.9797940254211426, 0.9797940254211426, 0.9797940850257874, 0.9797940850257874, 0.9797940850257874, 0.9797940254211426, 0.9797940850257874, 0.9797940850257874, 0.9797940254211426, 0.9797940254211426, 0.9797937870025635, 0.9797937870025635, 0.9797937273979187, 0.9797937273979187, 0.9797937870025635, 0.9797935485839844, 0.9797937273979187, 0.9797937273979187, 0.9797937273979187, 0.9797936677932739, 2.0802431106567383, 1.4150489568710327, 1.5213353633880615, 1.521335482597351, 1.4149961471557617, 1.41496741771698, 1.5834790468215942, 1.5834816694259644, 1.5834832191467285, 1.5834776163101196, 1.5835161209106445, 1.5835161209106445, 1.046142578125, 1.0461424589157104, 1.046142578125, 1.046142339706421, 1.0461424589157104, 1.0461424589157104, 1.046142578125, 1.0461424589157104, 1.0461424589157104, 1.0461424589157104, 1.0461424589157104, 1.0461424589157104, 1.0461424589157104, 1.0461424589157104, 1.046142339706421, 1.046142339706421, 1.046142578125, 1.0461424589157104, 1.0461424589157104, 1.046142339706421, 1.046142339706421, 1.0461424589157104, 1.046142339706421, 1.046142339706421, 1.046142339706421, 1.046142339706421, 1.046142339706421, 1.046142339706421, 1.046142339706421, 6.421750068664551, 1.0461422204971313, 1.046142339706421, 1.046142339706421, 1.046142339706421, 1.046142339706421, 1.046142339706421, 1.046142339706421, 1.0461421012878418, 1.046142339706421, 1.046142339706421, 1.605069875717163, 1.5170775651931763, 2.039902448654175, 1.5878195762634277, 1.58785879611969], \"loglift\": [30.0, 29.0, 28.0, 27.0, 26.0, 25.0, 24.0, 23.0, 22.0, 21.0, 20.0, 19.0, 18.0, 17.0, 16.0, 15.0, 14.0, 13.0, 12.0, 11.0, 10.0, 9.0, 8.0, 7.0, 6.0, 5.0, 4.0, 3.0, 2.0, 1.0, 1.139799952507019, 1.139799952507019, 1.139799952507019, 1.1397000551223755, 1.1396000385284424, 0.9545999765396118, 0.9545999765396118, 0.9545999765396118, 0.9545999765396118, 0.9545999765396118, 0.9545999765396118, 0.9545999765396118, 0.9545999765396118, 0.9545999765396118, 0.9545999765396118, 0.9545999765396118, 0.9545999765396118, 0.9545999765396118, 0.9545999765396118, 0.9545999765396118, 0.9545999765396118, 0.9545999765396118, 0.9545999765396118, 0.9545999765396118, 0.9545999765396118, 0.9545999765396118, 0.9545999765396118, 0.9545999765396118, 0.9545999765396118, 0.9545999765396118, 0.9545999765396118, 0.9545999765396118, 0.9545999765396118, 0.9545999765396118, 0.9545999765396118, 0.657800018787384, 0.9545999765396118, 0.9545999765396118, -0.23319999873638153, 0.9545999765396118, 0.2903999984264374, 0.28999999165534973, 1.273300051689148, 1.2727999687194824, 1.1944999694824219, 1.1944999694824219, 1.1943999528884888, 1.179800033569336, 1.131500005722046, 1.041700005531311, 1.0046000480651855, 1.0046000480651855, 1.0046000480651855, 1.0046000480651855, 1.0046000480651855, 1.0046000480651855, 1.0046000480651855, 1.0046000480651855, 1.0046000480651855, 1.0046000480651855, 1.0046000480651855, 1.0046000480651855, 1.0046000480651855, 1.0046000480651855, 1.0046000480651855, 1.0046000480651855, 1.0046000480651855, 1.0046000480651855, 1.0046000480651855, 1.0046000480651855, 1.0046000480651855, 1.0046000480651855, 1.0046000480651855, 1.0046000480651855, 1.0046000480651855, 0.7868000268936157, 0.8938999772071838, 0.7095999717712402, 1.0046000480651855, 1.0046000480651855, 1.0046000480651855, 1.0046000480651855, 1.0046000480651855, 1.0046000480651855, 1.0046000480651855, 1.0046000480651855, 1.0046000480651855, 0.592199981212616, 0.5784000158309937, 0.5916000008583069, 0.5916000008583069, 0.5914999842643738, 1.5714999437332153, 1.5714999437332153, 1.5714999437332153, 1.5714999437332153, 1.344499945640564, 1.344499945640564, 1.344499945640564, 1.344499945640564, 1.344499945640564, 1.344499945640564, 1.344499945640564, 1.344499945640564, 1.344499945640564, 1.344499945640564, 1.344499945640564, 1.344499945640564, 1.344499945640564, 1.344499945640564, 1.344499945640564, 1.344499945640564, 1.344499945640564, 1.344499945640564, 1.344499945640564, 1.344499945640564, 1.344499945640564, 1.344499945640564, 1.344499945640564, 1.344499945640564, 1.344499945640564, 1.344499945640564, 1.242799997329712, 1.2425999641418457, 1.2425999641418457, 1.2425999641418457, 0.5763000249862671, 0.8946999907493591, 0.8946999907493591, 0.8946999907493591, 0.8799999952316284, 0.8799999952316284, 0.3366999924182892, 0.890999972820282, 1.4564000368118286, 1.4564000368118286, 1.4563000202178955, 1.4555000066757202, 1.4555000066757202, 1.242799997329712, 1.242799997329712, 1.242799997329712, 1.242799997329712, 1.242799997329712, 1.242799997329712, 1.242799997329712, 1.242799997329712, 1.242799997329712, 1.242799997329712, 1.242799997329712, 1.242799997329712, 1.242799997329712, 1.242799997329712, 1.242799997329712, 1.242799997329712, 1.242799997329712, 1.242799997329712, 1.242799997329712, 1.242799997329712, 1.242799997329712, 1.242799997329712, 1.242799997329712, 1.242799997329712, 1.242799997329712, 1.242799997329712, 1.242799997329712, 1.242799997329712, 1.242799997329712, 1.242799997329712, 1.242799997329712, 0.492900013923645, 0.8773000240325928, 0.8047000169754028, 0.8047000169754028, 0.8754000067710876, 0.8752999901771545, 1.2171000242233276, 1.2171000242233276, 1.2171000242233276, 1.2171000242233276, 1.216599941253662, 1.216599941253662, 1.0257999897003174, 1.0257999897003174, 1.0257999897003174, 1.0257999897003174, 1.0257999897003174, 1.0257999897003174, 1.0257999897003174, 1.0257999897003174, 1.0257999897003174, 1.0257999897003174, 1.0257999897003174, 1.0257999897003174, 1.0257999897003174, 1.0257999897003174, 1.0257999897003174, 1.0257999897003174, 1.0257999897003174, 1.0257999897003174, 1.0257999897003174, 1.0257999897003174, 1.0257999897003174, 1.0257999897003174, 1.0257999897003174, 1.0257999897003174, 1.0257999897003174, 1.0257999897003174, 1.0257999897003174, 1.0257999897003174, 1.0257999897003174, -0.054499998688697815, 1.0257999897003174, 1.0257999897003174, 1.0257999897003174, 1.0257999897003174, 1.0257999897003174, 1.0257999897003174, 1.0257999897003174, 1.0257999897003174, 1.0257999897003174, 1.0257999897003174, 0.5982999801635742, 0.6542999744415283, 0.3582000136375427, 0.6086999773979187, 0.6086000204086304], \"logprob\": [30.0, 29.0, 28.0, 27.0, 26.0, 25.0, 24.0, 23.0, 22.0, 21.0, 20.0, 19.0, 18.0, 17.0, 16.0, 15.0, 14.0, 13.0, 12.0, 11.0, 10.0, 9.0, 8.0, 7.0, 6.0, 5.0, 4.0, 3.0, 2.0, 1.0, -5.851200103759766, -5.851200103759766, -5.851200103759766, -5.851200103759766, -5.85129976272583, -6.457399845123291, -6.457399845123291, -6.457399845123291, -6.457399845123291, -6.457399845123291, -6.457399845123291, -6.457399845123291, -6.457399845123291, -6.457399845123291, -6.457399845123291, -6.457399845123291, -6.457399845123291, -6.457399845123291, -6.457399845123291, -6.457399845123291, -6.457399845123291, -6.457399845123291, -6.457399845123291, -6.457399845123291, -6.457399845123291, -6.457399845123291, -6.457399845123291, -6.457399845123291, -6.457399845123291, -6.457399845123291, -6.457399845123291, -6.457399845123291, -6.457399845123291, -6.457399845123291, -6.457399845123291, -5.850800037384033, -6.457399845123291, -6.457399845123291, -5.851099967956543, -6.457399845123291, -6.454800128936768, -6.457200050354004, -5.446400165557861, -5.446800231933594, -5.817999839782715, -5.817999839782715, -5.817999839782715, -5.832799911499023, -5.172100067138672, -5.445300102233887, -6.423699855804443, -6.423699855804443, -6.423699855804443, -6.423699855804443, -6.423699855804443, -6.423699855804443, -6.423699855804443, -6.423699855804443, -6.423699855804443, -6.423699855804443, -6.423699855804443, -6.423699855804443, -6.423699855804443, -6.423699855804443, -6.423699855804443, -6.423699855804443, -6.423699855804443, -6.423699855804443, -6.423699855804443, -6.423699855804443, -6.423699855804443, -6.423699855804443, -6.423699855804443, -6.423699855804443, -6.423699855804443, -4.831099987030029, -5.817699909210205, -5.817699909210205, -6.423699855804443, -6.423699855804443, -6.423699855804443, -6.423699855804443, -6.423699855804443, -6.423699855804443, -6.423699855804443, -6.423699855804443, -6.423699855804443, -6.422999858856201, -6.423299789428711, -6.423699855804443, -6.423699855804443, -6.423699855804443, -5.584499835968018, -5.584499835968018, -5.584499835968018, -5.584499835968018, -6.190700054168701, -6.190700054168701, -6.190700054168701, -6.190700054168701, -6.190700054168701, -6.190700054168701, -6.190700054168701, -6.190700054168701, -6.190700054168701, -6.190700054168701, -6.190700054168701, -6.190700054168701, -6.190700054168701, -6.190700054168701, -6.190700054168701, -6.190700054168701, -6.190700054168701, -6.190700054168701, -6.190700054168701, -6.190700054168701, -6.190700054168701, -6.190700054168701, -6.190700054168701, -6.190700054168701, -6.190700054168701, -6.190700054168701, -5.5843000411987305, -5.584499835968018, -5.584499835968018, -5.584499835968018, -6.188399791717529, -6.190000057220459, -6.190000057220459, -6.190000057220459, -6.190199851989746, -6.190199851989746, -6.1905999183654785, -6.1905999183654785, -5.649099826812744, -5.649099826812744, -5.649199962615967, -5.649899959564209, -5.649899959564209, -6.255199909210205, -6.255199909210205, -6.255199909210205, -6.255199909210205, -6.255199909210205, -6.255199909210205, -6.255199909210205, -6.255199909210205, -6.255199909210205, -6.255199909210205, -6.255199909210205, -6.255199909210205, -6.255199909210205, -6.255199909210205, -6.255199909210205, -6.255199909210205, -6.255199909210205, -6.255199909210205, -6.255199909210205, -6.255199909210205, -6.255199909210205, -6.255199909210205, -6.255199909210205, -6.255199909210205, -6.255199909210205, -6.255199909210205, -6.255199909210205, -6.255199909210205, -6.255199909210205, -6.255199909210205, -6.255199909210205, -6.252299785614014, -6.253200054168701, -6.253300189971924, -6.253300189971924, -6.255000114440918, -6.255199909210205, -5.80079984664917, -5.80079984664917, -5.800899982452393, -5.800899982452393, -5.801400184631348, -5.801400184631348, -6.406700134277344, -6.406700134277344, -6.406700134277344, -6.406700134277344, -6.406700134277344, -6.406700134277344, -6.406700134277344, -6.406700134277344, -6.406700134277344, -6.406700134277344, -6.406700134277344, -6.406700134277344, -6.406700134277344, -6.406700134277344, -6.406700134277344, -6.406700134277344, -6.406700134277344, -6.406700134277344, -6.406700134277344, -6.406700134277344, -6.406700134277344, -6.406700134277344, -6.406700134277344, -6.406700134277344, -6.406700134277344, -6.406700134277344, -6.406700134277344, -6.406700134277344, -6.406700134277344, -5.672399997711182, -6.406700134277344, -6.406700134277344, -6.406700134277344, -6.406700134277344, -6.406700134277344, -6.406700134277344, -6.406700134277344, -6.406700134277344, -6.406700134277344, -6.406700134277344, -6.406099796295166, -6.406499862670898, -6.406499862670898, -6.406599998474121, -6.406599998474121]}, \"token.table\": {\"Topic\": [3, 5, 2, 5, 5, 1, 2, 5, 3, 2, 5, 2, 1, 2, 4, 5, 2, 5, 2, 3, 5, 1, 5, 4, 2, 2, 2, 4, 2, 3, 5, 3, 5, 1, 2, 4, 5, 3, 2, 2, 5, 5, 1, 1, 1, 4, 5, 5, 2, 2, 5, 3, 2, 2, 1, 4, 4, 1, 4, 1, 5, 3, 1, 4, 2, 1, 2, 1, 4, 2, 3, 5, 1, 4, 4, 5, 2, 5, 5, 5, 5, 2, 3, 5, 1, 4, 3, 4, 5, 1, 3, 5, 2, 1, 3, 5, 5, 3, 5, 4, 1, 2, 5, 2, 2, 3, 4, 2, 5, 5, 4, 1, 3, 5, 5, 3, 2, 3, 5, 2, 3, 5, 5, 1, 4, 2, 4, 1, 5, 1, 1, 5, 4, 2, 1, 3, 2, 3, 1, 4, 5, 1, 2, 5, 5, 4, 3, 4, 4, 3, 1, 1, 2, 4, 2, 5, 5, 5, 2, 5, 4, 3, 3, 4, 1, 3, 2, 1, 4, 1, 1, 3, 3, 2, 5, 1, 1, 3, 4, 4, 2, 3, 2, 5, 3, 4, 3, 1, 5, 3, 1, 1, 4, 2, 3, 5, 3, 4, 1, 4, 1, 4, 5, 1, 1, 2, 1, 2, 1, 2, 4, 5, 5, 2, 5, 2, 1, 1, 2, 3, 2, 4, 1, 2, 3, 3, 2, 1, 2, 1, 4, 4, 3, 5, 4, 4, 2, 5, 1, 3, 5, 4, 2, 5, 2, 4, 4, 3, 3, 4, 2, 5, 3, 4, 1, 5, 1, 3, 5, 5, 3, 5], \"Freq\": [1.0592691898345947, 0.9558928608894348, 0.9518452286720276, 0.9558927416801453, 0.9558927416801453, 0.6213009357452393, 0.6213009357452393, 0.9558928608894348, 0.725021243095398, 0.6280335783958435, 0.9558926224708557, 0.951845109462738, 0.936482846736908, 0.6573172807693481, 0.6573172807693481, 0.9558928608894348, 0.9518449902534485, 0.9558927416801453, 0.951845109462738, 0.5217720866203308, 0.5217720866203308, 0.9364827871322632, 0.9558929800987244, 1.020622968673706, 0.951845109462738, 0.951845109462738, 0.951845109462738, 1.020622730255127, 0.951845109462738, 0.7250211834907532, 0.9558927416801453, 0.6751149296760559, 0.6751149296760559, 0.6146832704544067, 0.6280353665351868, 0.6591621041297913, 0.6591621041297913, 1.0592691898345947, 0.6280328035354614, 0.6297865509986877, 0.6297865509986877, 0.9558928608894348, 0.9364827871322632, 0.9364826679229736, 0.936482846736908, 1.0206226110458374, 0.6315191388130188, 0.6315197944641113, 0.951845109462738, 0.951845109462738, 0.9558928608894348, 1.0592691898345947, 0.951845109462738, 0.9518452286720276, 0.936482846736908, 1.0206226110458374, 1.020622968673706, 0.936482846736908, 1.020622968673706, 0.936482846736908, 0.9558928608894348, 1.0592691898345947, 0.9364827871322632, 1.0206226110458374, 0.951845109462738, 0.936482846736908, 0.951845109462738, 0.9364826679229736, 1.0206226110458374, 0.951845109462738, 1.0592691898345947, 0.9558927416801453, 0.936482846736908, 1.020622968673706, 1.020622730255127, 0.9558928608894348, 0.9372267723083496, 0.9558926224708557, 0.9558928608894348, 0.9558927416801453, 0.9558927416801453, 0.9518452882766724, 0.6751149296760559, 0.6751149296760559, 0.936482846736908, 1.0206226110458374, 1.0592693090438843, 0.689282238483429, 0.9558927416801453, 0.9364827871322632, 1.0592693090438843, 0.9558928608894348, 0.9518452286720276, 0.4902195334434509, 0.4902195334434509, 0.4902195334434509, 0.9558928608894348, 0.5217726230621338, 0.5217726230621338, 1.0206232070922852, 0.9364827871322632, 0.6297944784164429, 0.6297944784164429, 0.951845109462738, 0.9518452286720276, 1.0592691898345947, 1.0206226110458374, 0.9518452286720276, 0.6315060257911682, 0.9558928608894348, 1.0206226110458374, 0.665374755859375, 0.665374755859375, 0.6315208077430725, 0.9558928608894348, 1.0592690706253052, 0.9518452286720276, 0.6751151084899902, 0.6751151084899902, 0.9518449902534485, 1.0592691898345947, 0.9558928608894348, 0.9558927416801453, 0.9364827871322632, 0.6892336010932922, 0.951845109462738, 1.020622730255127, 0.9364829659461975, 0.9558927416801453, 0.9364826679229736, 0.9364826679229736, 0.9558927416801453, 1.020622730255127, 0.951845109462738, 0.6146834492683411, 1.0592693090438843, 0.951845109462738, 1.0592691898345947, 0.48168256878852844, 0.48168256878852844, 0.48168256878852844, 0.37133467197418213, 0.7426693439483643, 0.9558928608894348, 0.9558928608894348, 1.020622730255127, 1.0592693090438843, 1.020622968673706, 0.6892335414886475, 1.0592693090438843, 0.6146821975708008, 0.48071303963661194, 0.48071303963661194, 0.48071303963661194, 0.6297789216041565, 0.6297789216041565, 0.9558928608894348, 0.9558928608894348, 0.6297783851623535, 0.6297783851623535, 1.0206226110458374, 1.0592691898345947, 1.0592690706253052, 1.0206226110458374, 0.936482846736908, 1.0592693090438843, 0.9518452286720276, 0.9364827871322632, 1.0206226110458374, 0.936482846736908, 0.936482846736908, 1.0592691898345947, 1.0592691898345947, 0.6297756433486938, 0.6297756433486938, 0.9364827871322632, 0.6146842241287231, 1.0592691898345947, 1.020622968673706, 1.0206226110458374, 0.673056423664093, 0.673056423664093, 0.951845109462738, 0.9558930993080139, 0.7066893577575684, 0.7066893577575684, 1.0592691898345947, 0.9364827871322632, 0.9558928608894348, 1.0592691898345947, 0.936482846736908, 0.9364827871322632, 0.6892817616462708, 0.951845109462738, 0.5217721462249756, 0.5217721462249756, 0.70673006772995, 0.70673006772995, 0.6146832704544067, 1.0206226110458374, 0.37949615716934204, 0.37949615716934204, 0.37949615716934204, 0.9364827871322632, 0.9364827871322632, 0.951845109462738, 0.46483883261680603, 0.46483883261680603, 0.1557207852602005, 0.4671623706817627, 0.1557207852602005, 0.1557207852602005, 0.9558927416801453, 0.951845109462738, 0.9558926224708557, 0.951845109462738, 0.936482846736908, 0.38663023710250854, 0.38663023710250854, 0.38663023710250854, 0.6573172211647034, 0.6573172211647034, 0.309138685464859, 0.618277370929718, 1.0592691898345947, 1.0592690706253052, 0.6281087398529053, 0.9364827871322632, 0.9518449902534485, 0.9364827871322632, 1.0206230878829956, 0.6892805099487305, 0.7250205874443054, 0.6315060257911682, 1.0206226110458374, 1.0206226110458374, 0.9372333884239197, 0.9558927416801453, 0.9364826679229736, 1.0592693090438843, 0.9558926224708557, 1.020622730255127, 0.9518452882766724, 0.9558928608894348, 0.9518449902534485, 1.0206226110458374, 1.020622968673706, 1.0592691898345947, 0.7067157030105591, 0.7067157030105591, 0.6297851800918579, 0.6297851800918579, 0.7250213027000427, 1.020622968673706, 0.6230258345603943, 0.6230258345603943, 0.6653746962547302, 0.6653746962547302, 0.9558928608894348, 0.6315214037895203, 0.5217923521995544, 0.5217923521995544], \"Term\": [\"able put rule\", \"about agree that\", \"against out claim\", \"agree that men\", \"agree that they\", \"all right you\", \"all right you\", \"always sit down\", \"always sue somebody\", \"and clyde all\", \"and now have\", \"and put down\", \"and sue him\", \"and the toilet\", \"and the toilet\", \"and you put\", \"ask woman just\", \"asshole and now\", \"avert liability within\", \"bastion american freedom\", \"bastion american freedom\", \"be gon try\", \"be just jealous\", \"be try get\", \"before they plop\", \"blindly the toilet\", \"boy this specter\", \"but its far\", \"butt blindly the\", \"can always sue\", \"cause they have\", \"check inside your\", \"check inside your\", \"christ sue you\", \"clyde all like\", \"clyde clyde clyde\", \"clyde clyde clyde\", \"clyde mom should\", \"clyde what have\", \"clyde you asshole\", \"clyde you asshole\", \"come home right\", \"courthouse where expert\", \"cross over from\", \"dead lawyer be\", \"deal with little\", \"die for nothing\", \"do die for\", \"down before they\", \"down that hard\", \"down where belongs\", \"dude that suck\", \"encounter manage avert\", \"ever encounter manage\", \"expert have successfully\", \"far well solution\", \"for work and\", \"from the dead\", \"get ready for\", \"ghost toilet inventor\", \"go clyde you\", \"gon take some\", \"gon try and\", \"government out bathroom\", \"hard too much\", \"harrington now that\", \"have be deny\", \"have cross over\", \"have deal with\", \"have ever encounter\", \"have perform sueance\", \"have sit outwards\", \"have successfully summon\", \"have tell you\", \"have the government\", \"have toilet water\", \"have told you\", \"his mom go\", \"his mom his\", \"home right now\", \"how about agree\", \"injunction against out\", \"inside your aaasshole\", \"inside your aaasshole\", \"inventor sir john\", \"its far well\", \"its just gon\", \"its time for\", \"jealous cause they\", \"john harrington now\", \"just gon take\", \"just jealous cause\", \"just look and\", \"just need check\", \"just need check\", \"just need check\", \"know right woman\", \"last bastion american\", \"last bastion american\", \"law the law\", \"lawyer be gon\", \"left the toilet\", \"left the toilet\", \"liability within injunction\", \"like none have\", \"like that toilettime\", \"little splash pee\", \"manage avert liability\", \"maybe and maybe\", \"men will agree\", \"might have deal\", \"mind touch your\", \"mind touch your\", \"mom do die\", \"mom go clyde\", \"mom should able\", \"much ask woman\", \"need check inside\", \"need check inside\", \"none have ever\", \"not you can\", \"now and you\", \"now have toilet\", \"now that the\", \"off belt off\", \"our motion have\", \"out bathroom right\", \"outside the south\", \"outwards pee and\", \"over from the\", \"park courthouse where\", \"pee and crap\", \"pee the rim\", \"plop their butt\", \"power christ sue\", \"protocol would have\", \"put down before\", \"put rule toilettime\", \"put the seat\", \"put the seat\", \"put the seat\", \"put the toilet\", \"put the toilet\", \"right now and\", \"right woman be\", \"rim but its\", \"rule toilettime like\", \"seat be again\", \"shoe off belt\", \"should able put\", \"sir harrington you\", \"sir john harrington\", \"sir john harrington\", \"sir john harrington\", \"sir thomas harrington\", \"sir thomas harrington\", \"sit down urinate\", \"sit outwards pee\", \"sit that way\", \"sit that way\", \"solution than have\", \"some special protocol\", \"somebody its just\", \"sorry woman might\", \"south park courthouse\", \"special protocol would\", \"specter like none\", \"spirit have cross\", \"splash pee the\", \"stand outside the\", \"successfully summon the\", \"suck clyde mom\", \"sue somebody its\", \"sue the dead\", \"sue the dead\", \"summon the ghost\", \"take sir harrington\", \"take some special\", \"tell you clyde\", \"than have the\", \"that big deal\", \"that big deal\", \"that hard too\", \"that men will\", \"that not what\", \"that not what\", \"that suck clyde\", \"that the spirit\", \"that they will\", \"that toilettime the\", \"the dead lawyer\", \"the ghost toilet\", \"the government out\", \"the judge concentrate\", \"the last bastion\", \"the last bastion\", \"the plastic tray\", \"the plastic tray\", \"the power christ\", \"the rim but\", \"the seat down\", \"the seat down\", \"the seat down\", \"the south park\", \"the spirit have\", \"the toilet bowl\", \"the toilet safety\", \"the toilet safety\", \"the toilet seat\", \"the toilet seat\", \"the toilet seat\", \"the toilet seat\", \"they have sit\", \"they plop their\", \"they will always\", \"this specter like\", \"toilet inventor sir\", \"toilet safety administration\", \"toilet safety administration\", \"toilet safety administration\", \"toilet seat be\", \"toilet seat be\", \"toilet seat down\", \"toilet seat down\", \"toilettime like that\", \"toilettime the last\", \"told you about\", \"tom stand outside\", \"too much ask\", \"try and sue\", \"try get ready\", \"want the government\", \"wear your safety\", \"well maybe and\", \"well solution than\", \"well sorry woman\", \"what have told\", \"where belongs let\", \"where expert have\", \"why not you\", \"will always sit\", \"with little splash\", \"within injunction against\", \"woman be just\", \"woman just look\", \"woman might have\", \"work and the\", \"would have perform\", \"yeah be gon\", \"yeah be gon\", \"you asshole and\", \"you asshole and\", \"you can always\", \"you clyde be\", \"you come home\", \"you come home\", \"you mind touch\", \"you mind touch\", \"you put the\", \"your mom do\", \"your safety belt\", \"your safety belt\"]}, \"R\": 30, \"lambda.step\": 0.01, \"plot.opts\": {\"xlab\": \"PC1\", \"ylab\": \"PC2\"}, \"topic.order\": [1, 2, 3, 4, 5]};\n",
       "\n",
       "function LDAvis_load_lib(url, callback){\n",
       "  var s = document.createElement('script');\n",
       "  s.src = url;\n",
       "  s.async = true;\n",
       "  s.onreadystatechange = s.onload = callback;\n",
       "  s.onerror = function(){console.warn(\"failed to load library \" + url);};\n",
       "  document.getElementsByTagName(\"head\")[0].appendChild(s);\n",
       "}\n",
       "\n",
       "if(typeof(LDAvis) !== \"undefined\"){\n",
       "   // already loaded: just create the visualization\n",
       "   !function(LDAvis){\n",
       "       new LDAvis(\"#\" + \"ldavis_el856823117305203769051765234\", ldavis_el856823117305203769051765234_data);\n",
       "   }(LDAvis);\n",
       "}else if(typeof define === \"function\" && define.amd){\n",
       "   // require.js is available: use it to load d3/LDAvis\n",
       "   require.config({paths: {d3: \"https://cdnjs.cloudflare.com/ajax/libs/d3/3.5.5/d3.min\"}});\n",
       "   require([\"d3\"], function(d3){\n",
       "      window.d3 = d3;\n",
       "      LDAvis_load_lib(\"https://cdn.rawgit.com/bmabey/pyLDAvis/files/ldavis.v1.0.0.js\", function(){\n",
       "        new LDAvis(\"#\" + \"ldavis_el856823117305203769051765234\", ldavis_el856823117305203769051765234_data);\n",
       "      });\n",
       "    });\n",
       "}else{\n",
       "    // require.js not available: dynamically load d3 & LDAvis\n",
       "    LDAvis_load_lib(\"https://cdnjs.cloudflare.com/ajax/libs/d3/3.5.5/d3.min.js\", function(){\n",
       "         LDAvis_load_lib(\"https://cdn.rawgit.com/bmabey/pyLDAvis/files/ldavis.v1.0.0.js\", function(){\n",
       "                 new LDAvis(\"#\" + \"ldavis_el856823117305203769051765234\", ldavis_el856823117305203769051765234_data);\n",
       "            })\n",
       "         });\n",
       "}\n",
       "</script>"
      ],
      "text/plain": [
       "<IPython.core.display.HTML object>"
      ]
     },
     "execution_count": 18,
     "metadata": {},
     "output_type": "execute_result"
    }
   ],
   "source": [
    "pyLDAvis.display(lda5_display)"
   ]
  },
  {
   "cell_type": "markdown",
   "metadata": {},
   "source": [
    "---"
   ]
  }
 ],
 "metadata": {
  "kernelspec": {
   "display_name": "Python 3",
   "language": "python",
   "name": "python3"
  },
  "language_info": {
   "codemirror_mode": {
    "name": "ipython",
    "version": 3
   },
   "file_extension": ".py",
   "mimetype": "text/x-python",
   "name": "python",
   "nbconvert_exporter": "python",
   "pygments_lexer": "ipython3",
   "version": "3.7.1"
  }
 },
 "nbformat": 4,
 "nbformat_minor": 2
}
